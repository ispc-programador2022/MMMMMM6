{
  "nbformat": 4,
  "nbformat_minor": 0,
  "metadata": {
    "colab": {
      "provenance": []
    },
    "kernelspec": {
      "name": "python3",
      "display_name": "Python 3"
    },
    "language_info": {
      "name": "python"
    }
  },
  "cells": [
    {
      "cell_type": "code",
      "source": [
        "! pip install pymongo;"
      ],
      "metadata": {
        "id": "GyL2RAFRbw8I",
        "outputId": "10117f04-1cb1-4c2f-9f00-e172a3e93504",
        "colab": {
          "base_uri": "https://localhost:8080/"
        }
      },
      "execution_count": null,
      "outputs": [
        {
          "output_type": "stream",
          "name": "stdout",
          "text": [
            "Looking in indexes: https://pypi.org/simple, https://us-python.pkg.dev/colab-wheels/public/simple/\n",
            "Requirement already satisfied: pymongo in /usr/local/lib/python3.7/dist-packages (4.3.2)\n",
            "Requirement already satisfied: dnspython<3.0.0,>=1.16.0 in /usr/local/lib/python3.7/dist-packages (from pymongo) (2.2.1)\n"
          ]
        }
      ]
    },
    {
      "cell_type": "code",
      "source": [
        "from pymongo import MongoClient"
      ],
      "metadata": {
        "id": "G0a003SzlTZR"
      },
      "execution_count": null,
      "outputs": []
    },
    {
      "cell_type": "code",
      "execution_count": null,
      "metadata": {
        "id": "HZuTaJmSpqef",
        "colab": {
          "base_uri": "https://localhost:8080/",
          "height": 1000
        },
        "outputId": "b7cddabf-0338-4d3c-fff6-7b2073af6cfe"
      },
      "outputs": [
        {
          "output_type": "stream",
          "name": "stdout",
          "text": [
            "PROC1: [<span class=\"main-name-in-row\">Francesco Bagnaia</span>, <span class=\"main-name-in-row\">Fabio Quartararo</span>, <span class=\"main-name-in-row\">Enea Bastianini</span>, <span class=\"main-name-in-row\">Aleix Espargaró</span>, <span class=\"main-name-in-row\">Jack Miller</span>, <span class=\"main-name-in-row\">Brad Binder</span>, <span class=\"main-name-in-row\">Alex Rins</span>, <span class=\"main-name-in-row\">Johann Zarco</span>, <span class=\"main-name-in-row\">Jorge Martin</span>, <span class=\"main-name-in-row\">Miguel Oliveira</span>, <span class=\"main-name-in-row\">Maverick Viñales</span>, <span class=\"main-name-in-row\">Luca Marini</span>, <span class=\"main-name-in-row\">Marc Márquez</span>, <span class=\"main-name-in-row\">Marco Bezzecchi</span>, <span class=\"main-name-in-row\">Joan Mir Mayrata</span>, <span class=\"main-name-in-row\">Pol Espargaró</span>, <span class=\"main-name-in-row\">Álex Márquez</span>, <span class=\"main-name-in-row\">Takaaki Nakagami</span>, <span class=\"main-name-in-row\">Franco Morbidelli</span>, <span class=\"main-name-in-row\">Fabio Di Giannantonio</span>, <span class=\"main-name-in-row\">Andrea Dovizioso</span>, <span class=\"main-name-in-row\">Raúl Fernández</span>, <span class=\"main-name-in-row\">Remy Gardner</span>, <span class=\"main-name-in-row\">Darryn Binder</span>, <span class=\"main-name-in-row\">Cal Crutchlow</span>, <span class=\"main-name-in-row\">Stefan Bradl</span>, <span class=\"main-name-in-row\">Michele Pirro</span>, <span class=\"main-name-in-row\">Lorenzo Savadori</span>, <span class=\"main-name-in-row\">Tetsuta Nagashima</span>, <span class=\"main-name-in-row\">Danilo Petrucci</span>, <span class=\"main-name-in-row\">Kazuki Watanabe</span>, <span class=\"main-name-in-row\">Takuya Tsuda</span>]\n",
            "['Francesco Bagnaia', 'Fabio Quartararo', 'Enea Bastianini', 'Aleix Espargaró', 'Jack Miller', 'Brad Binder', 'Alex Rins', 'Johann Zarco', 'Jorge Martin', 'Miguel Oliveira', 'Maverick Viñales', 'Luca Marini', 'Marc Márquez', 'Marco Bezzecchi', 'Joan Mir Mayrata', 'Pol Espargaró', 'Álex Márquez', 'Takaaki Nakagami', 'Franco Morbidelli', 'Fabio Di Giannantonio', 'Andrea Dovizioso', 'Raúl Fernández', 'Remy Gardner', 'Darryn Binder', 'Cal Crutchlow', 'Stefan Bradl', 'Michele Pirro', 'Lorenzo Savadori', 'Tetsuta Nagashima', 'Danilo Petrucci', 'Kazuki Watanabe', 'Takuya Tsuda'] 32\n",
            "[<td class=\"destacado\">265</td>, <td class=\"destacado\">248</td>, <td class=\"destacado\">219</td>, <td class=\"destacado\">212</td>, <td class=\"destacado\">189</td>, <td class=\"destacado\">188</td>, <td class=\"destacado\">173</td>, <td class=\"destacado\">166</td>, <td class=\"destacado\">152</td>, <td class=\"destacado\">149</td>, <td class=\"destacado\">122</td>, <td class=\"destacado\">120</td>, <td class=\"destacado\">113</td>, <td class=\"destacado\">111</td>, <td class=\"destacado\">87</td>, <td class=\"destacado\">56</td>, <td class=\"destacado\">50</td>, <td class=\"destacado\">48</td>, <td class=\"destacado\">42</td>, <td class=\"destacado\">24</td>, <td class=\"destacado\">15</td>, <td class=\"destacado\">14</td>, <td class=\"destacado\">13</td>, <td class=\"destacado\">12</td>, <td class=\"destacado\">10</td>, <td class=\"destacado\">2</td>, <td class=\"destacado\">0</td>, <td class=\"destacado\">0</td>, <td class=\"destacado\">0</td>, <td class=\"destacado\">0</td>, <td class=\"destacado\">0</td>, <td class=\"destacado\">0</td>]\n",
            "['265', '248', '219', '212', '189', '188', '173', '166', '152', '149', '122', '120', '113', '111', '87', '56', '50', '48', '42', '24', '15', '14', '13', '12', '10', '2', '0', '0', '0', '0', '0', '0'] 32\n",
            "                  PILOTOS PUNTOS\n",
            "1       Francesco Bagnaia    265\n",
            "2        Fabio Quartararo    248\n",
            "3         Enea Bastianini    219\n",
            "4         Aleix Espargaró    212\n",
            "5             Jack Miller    189\n",
            "6             Brad Binder    188\n",
            "7               Alex Rins    173\n",
            "8            Johann Zarco    166\n",
            "9            Jorge Martin    152\n",
            "10        Miguel Oliveira    149\n",
            "11       Maverick Viñales    122\n",
            "12            Luca Marini    120\n",
            "13           Marc Márquez    113\n",
            "14        Marco Bezzecchi    111\n",
            "15       Joan Mir Mayrata     87\n",
            "16          Pol Espargaró     56\n",
            "17           Álex Márquez     50\n",
            "18       Takaaki Nakagami     48\n",
            "19      Franco Morbidelli     42\n",
            "20  Fabio Di Giannantonio     24\n",
            "21       Andrea Dovizioso     15\n",
            "22         Raúl Fernández     14\n",
            "23           Remy Gardner     13\n",
            "24          Darryn Binder     12\n",
            "25          Cal Crutchlow     10\n",
            "26           Stefan Bradl      2\n",
            "27          Michele Pirro      0\n",
            "28       Lorenzo Savadori      0\n",
            "29      Tetsuta Nagashima      0\n",
            "30        Danilo Petrucci      0\n",
            "31        Kazuki Watanabe      0\n",
            "32           Takuya Tsuda      0\n",
            "\n",
            " -----------------------  Escuderias ---------------------------\n",
            "\n",
            "  ESCUDERIAS PUNTOS\n",
            "1     Ducati    448\n",
            "2     Yamaha    256\n",
            "3    Aprilia    248\n",
            "4        Ktm    240\n",
            "5     Suzuki    199\n",
            "6      Honda    155\n",
            "\n",
            "-------------- DATOS DE LOS PILOTOS ----------------\n",
            "\n",
            "                   PILOTO  EDAD FECHA_NACIMIENTO ALTURA ESCUDERIA_ACTUAL  \\\n",
            "0       Francesco Bagnaia    25       1997/01/14    174           DUCATI   \n",
            "1        Fabio Quartararo    23       1999/04/20    173           YAMAHA   \n",
            "2         Enea Bastianini    24       1997/12/30    167           DUCATI   \n",
            "3         Aleix Espargaró    33       1989/07/30    180          APRILIA   \n",
            "4             Jack Miller    27       1995/01/18    175           DUCATI   \n",
            "5             Brad Binder    27       1995/08/11    170              KTM   \n",
            "6               Alex Rins    26       1995/12/08    176           SUZUKI   \n",
            "7            Johann Zarco    32       1990/07/16    171           DUCATI   \n",
            "8            Jorge Martin    24       1998/01/29    168           DUCATI   \n",
            "9         Miguel Oliveira    27       1995/01/04    170              KTM   \n",
            "10       Maverick Viñales    27       1995/01/12    171          APRILIA   \n",
            "11            Luca Marini    25       1997/08/10    184           DUCATI   \n",
            "12           Marc Márquez    29       1993/02/17    168            HONDA   \n",
            "13        Marco Bezzecchi    23       1998/11/12      -           DUCATI   \n",
            "14       Joan Mir Mayrata    25       1997/09/01    175           SUZUKI   \n",
            "15          Pol Espargaró    31       1991/06/10    171            HONDA   \n",
            "16           Álex Márquez    26       1996/04/23    179            HONDA   \n",
            "17       Takaaki Nakagami    30       1992/02/09    174            HONDA   \n",
            "18      Franco Morbidelli    27       1994/12/04    176           YAMAHA   \n",
            "19  Fabio Di Giannantonio    24       1998/10/10    175           DUCATI   \n",
            "20       Andrea Dovizioso    36       1986/03/23    167           YAMAHA   \n",
            "21         Raúl Fernández    22       2000/10/23      -              KTM   \n",
            "22           Remy Gardner    24       1998/02/24    174              KTM   \n",
            "23          Darryn Binder    24       1998/01/21    171           YAMAHA   \n",
            "24          Cal Crutchlow    37       1985/10/29    170           YAMAHA   \n",
            "25           Stefan Bradl    32       1989/11/29    170            HONDA   \n",
            "26          Michele Pirro    36       1986/07/05    177           DUCATI   \n",
            "27       Lorenzo Savadori    29       1993/04/04    177          APRILIA   \n",
            "28      Tetsuta Nagashima    30       1992/07/02    175            HONDA   \n",
            "29        Danilo Petrucci    32       1990/10/24    180           SUZUKI   \n",
            "\n",
            "   NACIONALIDAD PESO  PUNTOS  GPs  VICTORIAS  \n",
            "0        Italia   59    1369  172         21  \n",
            "1       Francia   63    1222  138         12  \n",
            "2        Italia   57    1452  159         10  \n",
            "3        España   71    1408  301          1  \n",
            "4     Australia   70    1317  192         10  \n",
            "5     Sudáfrica   57    1688  197         17  \n",
            "6        España   65    1981  186         17  \n",
            "7       Francia   66    2157  240         16  \n",
            "8        España   63    1090  132         11  \n",
            "9      Portugal   63    1647  197         17  \n",
            "10       España   64    2345  207         25  \n",
            "11       Italia   68     787  125          6  \n",
            "12       España   59    3576  232         85  \n",
            "13       Italia    -     760  112          6  \n",
            "14       España   60    1198  120         12  \n",
            "15       España   64    2198  277         15  \n",
            "16       España   64    1490  187         12  \n",
            "17        Japón   66    1047  220          2  \n",
            "18       Italia   64    1098  153         11  \n",
            "19       Italia   62     863  127          3  \n",
            "20       Italia   67    3796  346         24  \n",
            "21       España    -     561   78         10  \n",
            "22    Australia   63     614  135          6  \n",
            "23    Sudáfrica   63     443  137          1  \n",
            "24  Reino Unido   70    1184  178          3  \n",
            "25     Alemania   61    1244  205          7  \n",
            "26       Italia   69     318  109          1  \n",
            "27       Italia   67      19   50          0  \n",
            "28        Japón   62     217   91          1  \n",
            "29       Italia   77     817  170          2  \n"
          ]
        },
        {
          "output_type": "display_data",
          "data": {
            "text/plain": [
              "<IPython.core.display.Javascript object>"
            ],
            "application/javascript": [
              "\n",
              "    async function download(id, filename, size) {\n",
              "      if (!google.colab.kernel.accessAllowed) {\n",
              "        return;\n",
              "      }\n",
              "      const div = document.createElement('div');\n",
              "      const label = document.createElement('label');\n",
              "      label.textContent = `Downloading \"${filename}\": `;\n",
              "      div.appendChild(label);\n",
              "      const progress = document.createElement('progress');\n",
              "      progress.max = size;\n",
              "      div.appendChild(progress);\n",
              "      document.body.appendChild(div);\n",
              "\n",
              "      const buffers = [];\n",
              "      let downloaded = 0;\n",
              "\n",
              "      const channel = await google.colab.kernel.comms.open(id);\n",
              "      // Send a message to notify the kernel that we're ready.\n",
              "      channel.send({})\n",
              "\n",
              "      for await (const message of channel.messages) {\n",
              "        // Send a message to notify the kernel that we're ready.\n",
              "        channel.send({})\n",
              "        if (message.buffers) {\n",
              "          for (const buffer of message.buffers) {\n",
              "            buffers.push(buffer);\n",
              "            downloaded += buffer.byteLength;\n",
              "            progress.value = downloaded;\n",
              "          }\n",
              "        }\n",
              "      }\n",
              "      const blob = new Blob(buffers, {type: 'application/binary'});\n",
              "      const a = document.createElement('a');\n",
              "      a.href = window.URL.createObjectURL(blob);\n",
              "      a.download = filename;\n",
              "      div.appendChild(a);\n",
              "      a.click();\n",
              "      div.remove();\n",
              "    }\n",
              "  "
            ]
          },
          "metadata": {}
        },
        {
          "output_type": "display_data",
          "data": {
            "text/plain": [
              "<IPython.core.display.Javascript object>"
            ],
            "application/javascript": [
              "download(\"download_974be842-4efc-4744-973f-b751a7aa0842\", \"TABLA_HISTORICA_PILOTOS_EN_CLASIFICACION.csv\", 1949)"
            ]
          },
          "metadata": {}
        }
      ],
      "source": [
        "#DESCARGO LAS LIBRERÍAS QUE VOY A USAR\n",
        "from cgitb import html\n",
        "from bs4 import BeautifulSoup\n",
        "import requests\n",
        "import pandas as pd\n",
        "import matplotlib.pyplot as plt \n",
        "import pymongo\n",
        "\n",
        "\n",
        "#db.dropDatabase()\n",
        "#db.competidores.drop()\n",
        "\n",
        "\n",
        "#CARGO LA PÁGINA QUE VOY A USAR Y FORMO LA SOPA \n",
        "url = 'https://resultados.as.com/resultados/motor/motogp/clasificacion/?omnil=mpal'\n",
        "page = requests.get(url)\n",
        "soup = BeautifulSoup(page.content, 'html.parser')\n",
        "\n",
        "#ELIJO TRABAJAR CON LOS PILOTOS Y DESCARGO EL HTML\n",
        "tablaPilotos = soup.find(\"div\", {\"id\": \"pilotos\"})\n",
        "pil = tablaPilotos.find_all('span', class_= 'main-name-in-row')\n",
        "\n",
        "#HAGO PRINT PARA CONTROL DE PROCESO 1\n",
        "print(\"PROC1:\",pil)\n",
        "\n",
        "#SELECCIONO TODOS LOS PILOTOS EN UNA LISTA\n",
        "pilotos = list()\n",
        "\n",
        "count = 0\n",
        "for i in pil:\n",
        "    if count < 32:\n",
        "        pilotos.append(i.text)\n",
        "    else:\n",
        "        break\n",
        "    count += 1\n",
        "\n",
        "#HAGO PRINT PARA CONTROL DE PROCESO 2\n",
        "print(pilotos, len(pilotos))\n",
        "\n",
        "#ELIJO TRABAJAR CON LOS PUNTOS Y DESCARGO EL HTML\n",
        "punt = tablaPilotos.find_all('td', class_= 'destacado')\n",
        "\n",
        "#HAGO PRINT PARA CONTROL DE PROCESO 3\n",
        "print(punt)\n",
        "\n",
        "#SELECCIONO LOS PUNTOS DE TODOS LOS PILOTOS EN UNA LISTA\n",
        "puntos = list()\n",
        "\n",
        "count = 0\n",
        "for i in punt:\n",
        "    if count < 32:\n",
        "        puntos.append(i.text)\n",
        "    else:\n",
        "        break\n",
        "    count += 1\n",
        "\n",
        "#HAGO PRINT PARA CONTROL DE PROCESO 4\n",
        "print(puntos, len(puntos))\n",
        "\n",
        "#ELABORO UN DATAFRAME CON PANDAS\n",
        "dfPilotos = pd.DataFrame({'PILOTOS': pilotos, 'PUNTOS': puntos}, index=list (range(1,33)))\n",
        "\n",
        "#HAGO PRINT PARA CONTROL DE PROCESO 5\n",
        "print (dfPilotos)\n",
        "\n",
        "\n",
        "##############################################################################################\n",
        "#####################################    ESCUDERIAS     ######################################\n",
        "print(\"\\n -----------------------  Escuderias ---------------------------\\n\")\n",
        "##############################################################################################\n",
        "\n",
        "# TOMANDO DATOS DESDE LA PAGINA\n",
        "tablaEscuderias = soup.find(\"div\", {\"id\": \"escuderias\"})\n",
        "esc = tablaEscuderias.find_all(\"span\",class_= 'main-name-in-row')\n",
        "escPts = tablaEscuderias.find_all(\"td\",class_='destacado')\n",
        "\n",
        "# INSERTANDO DATOS EN LISTAS\n",
        "escuderias = list()\n",
        "puntosEscuderias = list()\n",
        "\n",
        "for i in esc:\n",
        "  escuderias.append(i.text)\n",
        "\n",
        "for i in escPts:\n",
        "  puntosEscuderias.append(i.text)\n",
        "\n",
        "# DATAFRAME CON LOS DATOS\n",
        "\n",
        "dfEscuderia = pd.DataFrame({'ESCUDERIAS': escuderias, 'PUNTOS': puntosEscuderias}, index=list (range(1,7)))\n",
        "print(dfEscuderia)\n",
        "\n",
        "\n",
        "###################################################################################################\n",
        "#############################  DATOS DE LOS PILOTOS  #######################################\n",
        "print('\\n-------------- DATOS DE LOS PILOTOS ----------------\\n')\n",
        "###################################################################################################\n",
        "\n",
        "#VOY A SELECCIONAR EL LINK AL PERFIL DE CADA PILOTO\n",
        "linkPiloto = tablaPilotos.find_all('a', class_= 'cont-enlace-equipo', href=True)\n",
        "\n",
        "#GENERO LISTAS PARA GUARDAR LOS LINKS A LOS PERFILES Y OTROS DATOS\n",
        "linksPilotos = list()\n",
        "nombres = list()\n",
        "edades = list()\n",
        "fechasNacimientos = list()\n",
        "alturas = list()\n",
        "escudos = list()\n",
        "pesos = list()\n",
        "nacionalidades = list()\n",
        "puntos = list()\n",
        "gps = list()\n",
        "victorias = list()\n",
        "\n",
        "count = 0\n",
        "for a in linkPiloto:\n",
        "    if count < 32:\n",
        "        linksPilotos.append(a['href'])\n",
        "    else:\n",
        "        break\n",
        "    count += 1\n",
        "\n",
        "#CARGO CADA URL PARA OBTENER LOS DATOS DE CADA PILOTO\n",
        "\n",
        "for a in linksPilotos:\n",
        "  url = 'https://resultados.as.com' + a\n",
        "  page = requests.get(url)\n",
        "  soup = BeautifulSoup(page.content, 'html.parser')\n",
        "\n",
        "  nombres.append(soup.find('h1', class_='sub-tit').text)\n",
        "  edades.append(int((soup.find_all('article', class_='datos-ficha-jugador')[1]).find('strong').text.replace(' años','')))\n",
        "  fechasNacimientos.append(soup.find('span', itemprop='birthDate')['content'])\n",
        "  alturas.append(soup.find('strong', itemprop='height').text.replace(' cm',''))\n",
        "  escudos.append(soup.find('span', class_='hdr-ficha-player-info-team-name').text)\n",
        "  pesos.append(soup.find('strong', itemprop='weight').text.replace(' kg',''))\n",
        "  nacionalidadPiloto = soup.find('header', class_='int-data-player-country')\n",
        "  nacionalidades.append(nacionalidadPiloto.text.replace('\\n',''))\n",
        "  estadisticas = soup.find_all('section', class_='info-palmares cf')\n",
        "\n",
        "  if len(estadisticas) > 1:\n",
        "    estadisticas = estadisticas[1]\n",
        "  else:\n",
        "    estadisticas = estadisticas[0]\n",
        "\n",
        "  puntos.append(int(estadisticas.find_all('p', class_='stats-big-number')[0].text.replace('\\n','').replace('puntos','')))\n",
        "  gps.append(int(estadisticas.find_all('p', class_='stats-big-number')[1].text.replace('\\n','').replace('GPs','')))\n",
        "  victorias.append(int(estadisticas.find('span', class_='s-pa in-circle-single').text.replace(' victorias','')))\n",
        "\n",
        "\n",
        "# DATAFRAME CON DATOS\n",
        "\n",
        "dfDatos = pd.DataFrame({'PILOTO': nombres, 'EDAD': edades, 'FECHA_NACIMIENTO': fechasNacimientos, 'ALTURA': alturas, 'ESCUDERIA_ACTUAL': escudos, 'NACIONALIDAD':nacionalidades, 'PESO': pesos, 'PUNTOS': puntos, 'GPs':gps, 'VICTORIAS':victorias})\n",
        "\n",
        "print(dfDatos)\n",
        "\n",
        "#GUARDO LOS DATOS EN UN FICHERO DE TXT\n",
        "dfPilotos.to_csv('CLASIFICACIÓN_DE_PILOTOS_2022.csv', index=False)\n",
        "dfEscuderia.to_csv('ESCUDERIA_2022.csv', index=False)\n",
        "dfDatos.to_csv('TABLA_HISTORICA_PILOTOS_EN_CLASIFICACION.csv', index=False, encoding=\"utf-8\")\n",
        "\n",
        "from google.colab import files \n",
        "#files.download ('CLASIFICACIÓN_DE_PILOTOS.csv')\n",
        "#files.download ('ESCUDERIA.csv')\n",
        "files.download('TABLA_HISTORICA_PILOTOS_EN_CLASIFICACION.csv')\n",
        "\n",
        "#SE DESCARGÓ EL ARCHIVO CON LOS DATOS EXTRAÍDOS\n",
        "#SE PODRÁ ABRIR CON BLOCK DE NOTAS O PASAR A EXCEL O SIMILAR"
      ]
    },
    {
      "cell_type": "code",
      "source": [
        "from bs4 import BeautifulSoup\n",
        "import requests\n",
        "from pandas.io.parsers.python_parser import count_empty_vals\n",
        "import pymongo\n",
        "\n",
        "##################### Punto 1 ############################\n",
        "\n",
        "client = MongoClient()\n",
        "client.list_database_names()\n",
        "db = client['MOTOGP']\n",
        "collection = db['competidores']\n",
        "\n",
        "#CARGO LA PÁGINA QUE VOY A USAR Y FORMO LA SOPA \n",
        "url = 'https://resultados.as.com/resultados/motor/motogp/clasificacion/?omnil=mpal'\n",
        "page = requests.get(url)\n",
        "soup = BeautifulSoup(page.content, 'html.parser')\n",
        "\n",
        "tablaPilotos = soup.find(\"div\", {\"id\": \"pilotos\"})\n",
        "\n",
        "linkPagina = tablaPilotos.find_all('a', class_= 'cont-enlace-equipo', href=True)\n",
        "\n",
        "\n",
        "linksPilotos = []\n",
        "for a in linkPagina:\n",
        "  linksPilotos.append(a['href'])\n",
        "\n",
        "''' count = 0\n",
        "for i in linksPilotos:\n",
        "  print(i) '''\n",
        "        \n",
        "\n",
        "#CARGO CADA URL PARA OBTENER LOS DATOS DE CADA PILOTO\n",
        "for a in linksPilotos:\n",
        "  url = 'https://resultados.as.com' + a\n",
        "  page = requests.get(url)\n",
        "  soup = BeautifulSoup(page.content, 'html.parser')\n",
        "\n",
        "  nombre = soup.find('h1', class_='sub-tit').text\n",
        "  nacionalidadPiloto = soup.find('header', class_='int-data-player-country')\n",
        "  nacionalidad = nacionalidadPiloto.text.replace('\\n','')\n",
        "\n",
        "  escuderiaLista = soup.findAll('span', class_='team-inline')\n",
        "  \n",
        "  count = 2022\n",
        "  for i in escuderiaLista:\n",
        "    escuderia = i.text\n",
        "    ano = count\n",
        "    gp = i.findNext('td').findNext('td').text\n",
        "    victoria = i.findNext('td').findNext('td').findNext('td').findNext('td').text\n",
        "    collection.insert_one({\"nombre\":nombre,\"nacionalidad\":nacionalidad,\"ano\":count,\"escuderia\":escuderia,\"victorias\":victoria,\"GP\":gp})\n",
        "    count -= 1\n",
        "\n",
        "   \n",
        "\n",
        "############ REPRESENTACION EN FORMATO JSON DE LOS DATOS OBTENIDOS ###############\n",
        "\"\"\"\n",
        "        db = client['MOTOGP']\n",
        "        collection = db['competidores']\n",
        "        collection.insert_one(\n",
        "            {\n",
        "            \"nombre\":\"\",\n",
        "            \"nacionalidad\":\"\",\n",
        "            \"ano\": ,\n",
        "            \"escuderia\": \"\", \n",
        "            \"victorias\":,\n",
        "            \"GP\":,\n",
        "            }) \n",
        "        \"\"\"\n"
      ],
      "metadata": {
        "colab": {
          "base_uri": "https://localhost:8080/",
          "height": 53
        },
        "id": "Omd0G6_P1CBY",
        "outputId": "c709a0dd-ee4c-4d35-e2e3-a2e1dddc9320"
      },
      "execution_count": null,
      "outputs": [
        {
          "output_type": "execute_result",
          "data": {
            "text/plain": [
              "'\\n        db = client[\\'MOTOGP\\']\\n        collection = db[\\'competidores\\']\\n        collection.insert_one(\\n            {\\n            \"nombre\":\"\",\\n            \"nacionalidad\":\"\",\\n            \"ano\": ,\\n            \"escuderia\": \"\", \\n            \"victorias\":,\\n            \"GP\":,\\n            }) \\n        '"
            ],
            "application/vnd.google.colaboratory.intrinsic+json": {
              "type": "string"
            }
          },
          "metadata": {},
          "execution_count": 16
        }
      ]
    },
    {
      "cell_type": "code",
      "source": [
        "for i in collection.find():\n",
        "  print(i)"
      ],
      "metadata": {
        "id": "hazuqmFiGnV8"
      },
      "execution_count": null,
      "outputs": []
    },
    {
      "cell_type": "code",
      "source": [
        "from bson.json_util import dumps\n",
        "import json\n",
        "\n",
        "collectionPaises = db['paises']\n",
        "nacArray = collection.distinct(\"nacionalidad\")\n",
        "\n",
        "for nac in nacArray:\n",
        "  vic = 0\n",
        "  for i in collection.find({\"nacionalidad\":nac}):\n",
        "    dict_json = json.loads(dumps(i))\n",
        "    vic += int(dict_json[\"victorias\"])\n",
        "  collectionPaises.insert_one({\"nacionalidad\":nac,\"victorias\":vic})"
      ],
      "metadata": {
        "id": "o9evoQh8Y24M"
      },
      "execution_count": null,
      "outputs": []
    },
    {
      "cell_type": "code",
      "source": [
        "for i in collectionPaises.find():\n",
        "  print(i)"
      ],
      "metadata": {
        "colab": {
          "base_uri": "https://localhost:8080/"
        },
        "id": "5LeiOILyGxdy",
        "outputId": "94a6e7f2-611b-4280-aa6c-1e741dfcf5ab"
      },
      "execution_count": null,
      "outputs": [
        {
          "output_type": "stream",
          "name": "stdout",
          "text": [
            "{'_id': ObjectId('637504dfa18c4fd2ac549750'), 'nacionalidad': 'Italia', 'victorias': 84}\n",
            "{'_id': ObjectId('637504dfa18c4fd2ac549751'), 'nacionalidad': 'Francia', 'victorias': 28}\n",
            "{'_id': ObjectId('637504dfa18c4fd2ac549752'), 'nacionalidad': 'España', 'victorias': 188}\n",
            "{'_id': ObjectId('637504dfa18c4fd2ac549753'), 'nacionalidad': 'Australia', 'victorias': 16}\n",
            "{'_id': ObjectId('637504dfa18c4fd2ac549754'), 'nacionalidad': 'Sudáfrica', 'victorias': 18}\n",
            "{'_id': ObjectId('637504dfa18c4fd2ac549755'), 'nacionalidad': 'Portugal', 'victorias': 17}\n",
            "{'_id': ObjectId('637504dfa18c4fd2ac549756'), 'nacionalidad': 'Japón', 'victorias': 3}\n",
            "{'_id': ObjectId('637504dfa18c4fd2ac549757'), 'nacionalidad': 'Reino Unido', 'victorias': 3}\n",
            "{'_id': ObjectId('637504dfa18c4fd2ac549758'), 'nacionalidad': 'Alemania', 'victorias': 7}\n"
          ]
        }
      ]
    },
    {
      "cell_type": "code",
      "source": [
        "###### INFORME 1: Informar las nacionalidades de los pilotos más ganadores de grandes premios ######\n",
        "\n",
        "nacionalidad = []\n",
        "victorias = []\n",
        "for x in collectionPaises.find().sort('victorias', pymongo.DESCENDING):\n",
        "  dict_json = json.loads(dumps(x))\n",
        "  nacionalidad.append(dict_json['nacionalidad'])\n",
        "  victorias.append(dict_json['victorias'])\n",
        "\n",
        "dfPaisesVictorias = pd.DataFrame({\"Nacionalidad\": nacionalidad, \"Victorias\": victorias})\n",
        "print(dfPaisesVictorias)"
      ],
      "metadata": {
        "colab": {
          "base_uri": "https://localhost:8080/"
        },
        "id": "ZVBHq-V6h8Yv",
        "outputId": "6c6ac6e2-1397-403f-ac45-6687cce2b886"
      },
      "execution_count": null,
      "outputs": [
        {
          "output_type": "stream",
          "name": "stdout",
          "text": [
            "  Nacionalidad  Victorias\n",
            "0       España        188\n",
            "1       Italia         84\n",
            "2      Francia         28\n",
            "3    Sudáfrica         18\n",
            "4     Portugal         17\n",
            "5    Australia         16\n",
            "6     Alemania          7\n",
            "7        Japón          3\n",
            "8  Reino Unido          3\n"
          ]
        }
      ]
    },
    {
      "cell_type": "code",
      "source": [
        "collectionEsc = db['escuderia']\n",
        "escArray = collection.distinct('escuderia')\n",
        "\n",
        "for esc in escArray:\n",
        "  vic = 0\n",
        "  for i in collection.find({\"escuderia\":esc}):\n",
        "    dict_json = json.loads(dumps(i))\n",
        "    if (dict_json[\"ano\"] > 2012 and dict_json[\"ano\"] < 2023):\n",
        "      vic += int(dict_json[\"victorias\"])\n",
        "  collectionEsc.insert_one({\"escuderia\":esc,\"victorias\":vic})"
      ],
      "metadata": {
        "id": "v2EGJBXDl8ra"
      },
      "execution_count": null,
      "outputs": []
    },
    {
      "cell_type": "code",
      "source": [
        "###### INFORME 2: Informar las escuderias más ganadoras de los ultimos 10 años ######\n",
        "\n",
        "escuderias = []\n",
        "victorias = []\n",
        "for x in collectionEsc.find().sort('victorias', pymongo.DESCENDING):\n",
        "  dict_json = json.loads(dumps(x))\n",
        "  escuderias.append(dict_json['escuderia'])\n",
        "  victorias.append(dict_json['victorias'])\n",
        "\n",
        "dfEscuderiaVictorias = pd.DataFrame({\"Escuderia\": escuderias, \"Victorias\": victorias})\n",
        "print(dfEscuderiaVictorias)"
      ],
      "metadata": {
        "colab": {
          "base_uri": "https://localhost:8080/"
        },
        "id": "k0e3sAQfoP7E",
        "outputId": "27511fb7-d7c5-4b1a-898e-4dfeca96f86e"
      },
      "execution_count": null,
      "outputs": [
        {
          "output_type": "stream",
          "name": "stdout",
          "text": [
            "         Escuderia  Victorias\n",
            "0            HONDA         91\n",
            "1            KALEX         79\n",
            "2              KTM         57\n",
            "3           DUCATI         35\n",
            "4           YAMAHA         28\n",
            "5           SUZUKI          7\n",
            "6         MAHINDRA          2\n",
            "7       BOSCOSCURO          1\n",
            "8          APRILIA          1\n",
            "9        FTR HONDA          0\n",
            "10             ART          0\n",
            "11      PONS KALEX          0\n",
            "12       KALEX KTM          0\n",
            "13     SUTER HONDA          0\n",
            "14  CATERHAM SUTER          0\n",
            "15           DERBI          0\n",
            "16           SUTER          0\n",
            "17             FTR          0\n",
            "18          TECH 3          0\n",
            "19        MORIWAKI          0\n",
            "20        MALAGUTI          0\n",
            "21             TSR          0\n",
            "22          MOTOBI          0\n",
            "23            IODA          0\n"
          ]
        }
      ]
    },
    {
      "cell_type": "code",
      "source": [
        "collectionEfect = db['efectividad']\n",
        "nombreArray = collection.distinct('nombre')\n",
        "\n",
        "for nombre in nombreArray:\n",
        "  vic = 0\n",
        "  gp = 0\n",
        "  for i in collection.find({\"nombre\":nombre}):\n",
        "    dict_json = json.loads(dumps(i))\n",
        "    if (dict_json[\"ano\"] > 2019):\n",
        "      vic += int(dict_json[\"victorias\"])\n",
        "      gp += int(dict_json[\"GP\"])\n",
        "  collectionEfect.insert_one({\"nombre\":nombre,\"efectividad\":(vic*100)/gp})"
      ],
      "metadata": {
        "id": "gsL9R3uXoqmM"
      },
      "execution_count": null,
      "outputs": []
    },
    {
      "cell_type": "code",
      "source": [
        "for i in collectionEfect.find():\n",
        "  print(i)"
      ],
      "metadata": {
        "colab": {
          "base_uri": "https://localhost:8080/"
        },
        "id": "JOIqO83hEfmq",
        "outputId": "684e89bf-9884-4d7a-d92b-06b8c9870dde"
      },
      "execution_count": null,
      "outputs": [
        {
          "output_type": "stream",
          "name": "stdout",
          "text": [
            "{'_id': ObjectId('637505d9a18c4fd2ac549771'), 'nombre': 'Francesco Bagnaia', 'efectividad': 22.448979591836736}\n",
            "{'_id': ObjectId('637505d9a18c4fd2ac549772'), 'nombre': 'Fabio Quartararo', 'efectividad': 21.153846153846153}\n",
            "{'_id': ObjectId('637505d9a18c4fd2ac549773'), 'nombre': 'Enea Bastianini', 'efectividad': 13.20754716981132}\n",
            "{'_id': ObjectId('637505d9a18c4fd2ac549774'), 'nombre': 'Aleix Espargaró', 'efectividad': 1.9230769230769231}\n",
            "{'_id': ObjectId('637505d9a18c4fd2ac549775'), 'nombre': 'Jack Miller', 'efectividad': 5.769230769230769}\n",
            "{'_id': ObjectId('637505d9a18c4fd2ac549776'), 'nombre': 'Brad Binder', 'efectividad': 3.8461538461538463}\n",
            "{'_id': ObjectId('637505d9a18c4fd2ac549777'), 'nombre': 'Alex Rins', 'efectividad': 6.25}\n",
            "{'_id': ObjectId('637505d9a18c4fd2ac549778'), 'nombre': 'Johann Zarco', 'efectividad': 0.0}\n",
            "{'_id': ObjectId('637505d9a18c4fd2ac549779'), 'nombre': 'Jorge Martin', 'efectividad': 6.382978723404255}\n",
            "{'_id': ObjectId('637505d9a18c4fd2ac54977a'), 'nombre': 'Miguel Oliveira', 'efectividad': 9.615384615384615}\n",
            "{'_id': ObjectId('637505d9a18c4fd2ac54977b'), 'nombre': 'Maverick Viñales', 'efectividad': 4.166666666666667}\n",
            "{'_id': ObjectId('637505d9a18c4fd2ac54977c'), 'nombre': 'Luca Marini', 'efectividad': 5.660377358490566}\n",
            "{'_id': ObjectId('637505d9a18c4fd2ac54977d'), 'nombre': 'Marc Márquez', 'efectividad': 11.11111111111111}\n",
            "{'_id': ObjectId('637505d9a18c4fd2ac54977e'), 'nombre': 'Marco Bezzecchi', 'efectividad': 5.660377358490566}\n",
            "{'_id': ObjectId('637505d9a18c4fd2ac54977f'), 'nombre': 'Joan Mir Mayrata', 'efectividad': 2.0833333333333335}\n",
            "{'_id': ObjectId('637505d9a18c4fd2ac549780'), 'nombre': 'Pol Espargaró', 'efectividad': 0.0}\n",
            "{'_id': ObjectId('637505d9a18c4fd2ac549781'), 'nombre': 'Álex Márquez', 'efectividad': 0.0}\n",
            "{'_id': ObjectId('637505d9a18c4fd2ac549782'), 'nombre': 'Takaaki Nakagami', 'efectividad': 0.0}\n",
            "{'_id': ObjectId('637505d9a18c4fd2ac549783'), 'nombre': 'Franco Morbidelli', 'efectividad': 6.382978723404255}\n",
            "{'_id': ObjectId('637505d9a18c4fd2ac549784'), 'nombre': 'Fabio Di Giannantonio', 'efectividad': 1.8867924528301887}\n",
            "{'_id': ObjectId('637505d9a18c4fd2ac549785'), 'nombre': 'Andrea Dovizioso', 'efectividad': 3.0303030303030303}\n",
            "{'_id': ObjectId('637505d9a18c4fd2ac549786'), 'nombre': 'Raúl Fernández', 'efectividad': 19.607843137254903}\n",
            "{'_id': ObjectId('637505d9a18c4fd2ac549787'), 'nombre': 'Remy Gardner', 'efectividad': 11.764705882352942}\n",
            "{'_id': ObjectId('637505d9a18c4fd2ac549788'), 'nombre': 'Darryn Binder', 'efectividad': 1.8867924528301887}\n",
            "{'_id': ObjectId('637505d9a18c4fd2ac549789'), 'nombre': 'Cal Crutchlow', 'efectividad': 0.0}\n",
            "{'_id': ObjectId('637505d9a18c4fd2ac54978a'), 'nombre': 'Stefan Bradl', 'efectividad': 0.0}\n",
            "{'_id': ObjectId('637505d9a18c4fd2ac54978b'), 'nombre': 'Michele Pirro', 'efectividad': 0.0}\n",
            "{'_id': ObjectId('637505d9a18c4fd2ac54978c'), 'nombre': 'Lorenzo Savadori', 'efectividad': 0.0}\n",
            "{'_id': ObjectId('637505d9a18c4fd2ac54978d'), 'nombre': 'Tetsuta Nagashima', 'efectividad': 4.545454545454546}\n",
            "{'_id': ObjectId('637505d9a18c4fd2ac54978e'), 'nombre': 'Danilo Petrucci', 'efectividad': 3.0303030303030303}\n"
          ]
        }
      ]
    },
    {
      "cell_type": "code",
      "source": [
        "###### INFORME 3: Informar efectividad de los pilotos en las últimas 3 temporadas ######\n",
        "\n",
        "nombres = []\n",
        "efectividad = []\n",
        "for i in collectionEfect.find().sort(\"efectividad\",pymongo.DESCENDING):\n",
        "  dict_json = json.loads(dumps(i))\n",
        "  nombres.append(dict_json['nombre'])\n",
        "  efectividad.append(dict_json['efectividad'])\n",
        "\n",
        "dfEfectividad = pd.DataFrame({\"Nombre\": nombres, \"Efectividad\": efectividad})\n",
        "print(dfEfectividad)"
      ],
      "metadata": {
        "colab": {
          "base_uri": "https://localhost:8080/"
        },
        "id": "EFC8uqhjq3pG",
        "outputId": "3deaa20b-06cc-4d46-fe28-cfcf34325016"
      },
      "execution_count": null,
      "outputs": [
        {
          "output_type": "stream",
          "name": "stdout",
          "text": [
            "                   Nombre  Efectividad\n",
            "0       Francesco Bagnaia    22.448980\n",
            "1        Fabio Quartararo    21.153846\n",
            "2          Raúl Fernández    19.607843\n",
            "3         Enea Bastianini    13.207547\n",
            "4            Remy Gardner    11.764706\n",
            "5            Marc Márquez    11.111111\n",
            "6         Miguel Oliveira     9.615385\n",
            "7            Jorge Martin     6.382979\n",
            "8       Franco Morbidelli     6.382979\n",
            "9               Alex Rins     6.250000\n",
            "10            Jack Miller     5.769231\n",
            "11            Luca Marini     5.660377\n",
            "12        Marco Bezzecchi     5.660377\n",
            "13      Tetsuta Nagashima     4.545455\n",
            "14       Maverick Viñales     4.166667\n",
            "15            Brad Binder     3.846154\n",
            "16       Andrea Dovizioso     3.030303\n",
            "17        Danilo Petrucci     3.030303\n",
            "18       Joan Mir Mayrata     2.083333\n",
            "19        Aleix Espargaró     1.923077\n",
            "20  Fabio Di Giannantonio     1.886792\n",
            "21          Darryn Binder     1.886792\n",
            "22           Johann Zarco     0.000000\n",
            "23          Pol Espargaró     0.000000\n",
            "24           Álex Márquez     0.000000\n",
            "25       Takaaki Nakagami     0.000000\n",
            "26          Cal Crutchlow     0.000000\n",
            "27           Stefan Bradl     0.000000\n",
            "28          Michele Pirro     0.000000\n",
            "29       Lorenzo Savadori     0.000000\n"
          ]
        }
      ]
    },
    {
      "cell_type": "code",
      "source": [
        "#Grafica que muestra las nacionalidades en porcentaje\n",
        "serie = dfPaisesVictorias.Victorias\n",
        "serie.index = dfPaisesVictorias.Nacionalidad\n",
        "serie.plot.pie(autopct='%1.1f%%',figsize=(8, 8))"
      ],
      "metadata": {
        "colab": {
          "base_uri": "https://localhost:8080/",
          "height": 483
        },
        "id": "xBgWuTrqKzfc",
        "outputId": "72c86878-4989-42d9-ddab-8fdf8e013c85"
      },
      "execution_count": null,
      "outputs": [
        {
          "output_type": "execute_result",
          "data": {
            "text/plain": [
              "<matplotlib.axes._subplots.AxesSubplot at 0x7f64fb20da50>"
            ]
          },
          "metadata": {},
          "execution_count": 125
        },
        {
          "output_type": "display_data",
          "data": {
            "text/plain": [
              "<Figure size 576x576 with 1 Axes>"
            ],
            "image/png": "[encoded data removed]"
          },
          "metadata": {}
        }
      ]
    },
    {
      "cell_type": "code",
      "source": [
        "#Grafica que muestra las edades de menor a mayor\n",
        "dfDatos.EDAD.hist()\n",
        "\n",
        "\n"
      ],
      "metadata": {
        "colab": {
          "base_uri": "https://localhost:8080/",
          "height": 282
        },
        "id": "svOvD8mhUhCa",
        "outputId": "4d0ce753-1bf1-476f-fba0-d9609c1b7257"
      },
      "execution_count": null,
      "outputs": [
        {
          "output_type": "execute_result",
          "data": {
            "text/plain": [
              "<matplotlib.axes._subplots.AxesSubplot at 0x7f64fb1a7510>"
            ]
          },
          "metadata": {},
          "execution_count": 166
        },
        {
          "output_type": "display_data",
          "data": {
            "text/plain": [
              "<Figure size 432x288 with 1 Axes>"
            ],
            "image/png": "[encoded data removed]"
          },
          "metadata": {
            "needs_background": "light"
          }
        }
      ]
    },
    {
      "cell_type": "code",
      "source": [
        "#Grafica que muestra las nacionalidades en porcentaje\n",
        "serie = dfDatos.NACIONALIDAD.value_counts()\n",
        "serie.plot.pie(autopct='%1.1f%%')"
      ],
      "metadata": {
        "colab": {
          "base_uri": "https://localhost:8080/",
          "height": 265
        },
        "id": "u0gD-06v83as",
        "outputId": "75da73bd-3a13-4b5b-f3e9-3f2b1b98ca0b"
      },
      "execution_count": null,
      "outputs": [
        {
          "output_type": "execute_result",
          "data": {
            "text/plain": [
              "<matplotlib.axes._subplots.AxesSubplot at 0x7f64fbbd6110>"
            ]
          },
          "metadata": {},
          "execution_count": 167
        },
        {
          "output_type": "display_data",
          "data": {
            "text/plain": [
              "<Figure size 432x288 with 1 Axes>"
            ],
            "image/png": "[encoded data removed]"
          },
          "metadata": {}
        }
      ]
    },
    {
      "cell_type": "code",
      "source": [
        "#Grafica que muestra la altura de los pilotos\n",
        "serie = dfDatos.ALTURA.value_counts()\n",
        "serie.plot.pie(autopct='%1.1f%%')"
      ],
      "metadata": {
        "colab": {
          "base_uri": "https://localhost:8080/",
          "height": 265
        },
        "id": "Qjqz4WTBIIQ2",
        "outputId": "fd4f606d-3eb8-4fa5-a6d6-22cc60b325ed"
      },
      "execution_count": null,
      "outputs": [
        {
          "output_type": "execute_result",
          "data": {
            "text/plain": [
              "<matplotlib.axes._subplots.AxesSubplot at 0x7f64fbd12790>"
            ]
          },
          "metadata": {},
          "execution_count": 168
        },
        {
          "output_type": "display_data",
          "data": {
            "text/plain": [
              "<Figure size 432x288 with 1 Axes>"
            ],
            "image/png": "[encoded data removed]"
          },
          "metadata": {}
        }
      ]
    },
    {
      "cell_type": "code",
      "source": [
        "#Grafica que muestra el peso de los pilotos en porcentaje\n",
        "serie = dfDatos.PESO.value_counts()\n",
        "serie.plot.pie(autopct='%1.1f%%')"
      ],
      "metadata": {
        "colab": {
          "base_uri": "https://localhost:8080/",
          "height": 265
        },
        "id": "LWyt512GJMBe",
        "outputId": "6d05f479-3fa5-459b-ee54-d59326f52532"
      },
      "execution_count": null,
      "outputs": [
        {
          "output_type": "execute_result",
          "data": {
            "text/plain": [
              "<matplotlib.axes._subplots.AxesSubplot at 0x7f64fc6b4f50>"
            ]
          },
          "metadata": {},
          "execution_count": 169
        },
        {
          "output_type": "display_data",
          "data": {
            "text/plain": [
              "<Figure size 432x288 with 1 Axes>"
            ],
            "image/png": "[encoded data removed]"
          },
          "metadata": {}
        }
      ]
    },
    {
      "cell_type": "code",
      "source": [
        "#Calcular y mostrar el peso maximo\n",
        "dfDatos[\"PESO\"].max()"
      ],
      "metadata": {
        "colab": {
          "base_uri": "https://localhost:8080/",
          "height": 36
        },
        "id": "30pjLaTlJkjy",
        "outputId": "6da6eff5-3357-4f76-be21-3bf8da65c180"
      },
      "execution_count": null,
      "outputs": [
        {
          "output_type": "execute_result",
          "data": {
            "text/plain": [
              "'77'"
            ],
            "application/vnd.google.colaboratory.intrinsic+json": {
              "type": "string"
            }
          },
          "metadata": {},
          "execution_count": 170
        }
      ]
    },
    {
      "cell_type": "code",
      "source": [
        "#Grafica que muestra las edades de menor a mayor\n",
        "serie_edad = dfDatos.EDAD.value_counts()\n",
        "serie_edad.plot.barh()"
      ],
      "metadata": {
        "colab": {
          "base_uri": "https://localhost:8080/",
          "height": 282
        },
        "id": "q8HFXRH_AE4W",
        "outputId": "52a5221d-6274-451c-a9d9-82562f05863c"
      },
      "execution_count": null,
      "outputs": [
        {
          "output_type": "execute_result",
          "data": {
            "text/plain": [
              "<matplotlib.axes._subplots.AxesSubplot at 0x7f64fbbab290>"
            ]
          },
          "metadata": {},
          "execution_count": 171
        },
        {
          "output_type": "display_data",
          "data": {
            "text/plain": [
              "<Figure size 432x288 with 1 Axes>"
            ],
            "image/png": "[encoded data removed]"
          },
          "metadata": {
            "needs_background": "light"
          }
        }
      ]
    },
    {
      "cell_type": "code",
      "source": [
        "#Grafica de las alturas de los pilotos\n",
        "dfDatos.ALTURA.hist()"
      ],
      "metadata": {
        "colab": {
          "base_uri": "https://localhost:8080/",
          "height": 282
        },
        "id": "uLnjq9s9DswS",
        "outputId": "3d76122c-f7cc-4657-af1b-e63bea9abb05"
      },
      "execution_count": null,
      "outputs": [
        {
          "output_type": "execute_result",
          "data": {
            "text/plain": [
              "<matplotlib.axes._subplots.AxesSubplot at 0x7f64fbbd2f10>"
            ]
          },
          "metadata": {},
          "execution_count": 174
        },
        {
          "output_type": "display_data",
          "data": {
            "text/plain": [
              "<Figure size 432x288 with 1 Axes>"
            ],
            "image/png": "[encoded data removed]"
          },
          "metadata": {
            "needs_background": "light"
          }
        }
      ]
    },
    {
      "cell_type": "code",
      "source": [
        "#Grafica que muestra los puntos obtenidos por los pilotos\n",
        "serie = dfDatos.PUNTOS.hist()"
      ],
      "metadata": {
        "colab": {
          "base_uri": "https://localhost:8080/",
          "height": 265
        },
        "id": "uhT_3inhI2Jv",
        "outputId": "81c5497f-2a79-48c6-9fbc-01e266de1fdc"
      },
      "execution_count": null,
      "outputs": [
        {
          "output_type": "display_data",
          "data": {
            "text/plain": [
              "<Figure size 432x288 with 1 Axes>"
            ],
            "image/png": "[encoded data removed]"
          },
          "metadata": {
            "needs_background": "light"
          }
        }
      ]
    },
    {
      "cell_type": "code",
      "source": [
        "#La altura del piloto mas alto\n",
        "dfDatos[\"ALTURA\"].max()"
      ],
      "metadata": {
        "colab": {
          "base_uri": "https://localhost:8080/",
          "height": 36
        },
        "id": "ZsEQjyvxFxDb",
        "outputId": "cdb92ebd-f8bd-4a23-fd31-043d291bb888"
      },
      "execution_count": null,
      "outputs": [
        {
          "output_type": "execute_result",
          "data": {
            "text/plain": [
              "'184'"
            ],
            "application/vnd.google.colaboratory.intrinsic+json": {
              "type": "string"
            }
          },
          "metadata": {},
          "execution_count": 176
        }
      ]
    },
    {
      "cell_type": "code",
      "source": [
        "#El piloto con la edad mas grande\n",
        "dfDatos[\"EDAD\"].max()"
      ],
      "metadata": {
        "colab": {
          "base_uri": "https://localhost:8080/"
        },
        "id": "paGj07l0GQ1D",
        "outputId": "e462c296-de7a-489c-89ce-4c03e72cd578"
      },
      "execution_count": null,
      "outputs": [
        {
          "output_type": "execute_result",
          "data": {
            "text/plain": [
              "37"
            ]
          },
          "metadata": {},
          "execution_count": 177
        }
      ]
    },
    {
      "cell_type": "code",
      "source": [
        "#La edad del piloto mas joven\n",
        "dfDatos[\"EDAD\"].min()"
      ],
      "metadata": {
        "colab": {
          "base_uri": "https://localhost:8080/"
        },
        "id": "4JqAgZFDGzeD",
        "outputId": "641e8f38-5acf-4479-f90a-82702e98504c"
      },
      "execution_count": null,
      "outputs": [
        {
          "output_type": "execute_result",
          "data": {
            "text/plain": [
              "22"
            ]
          },
          "metadata": {},
          "execution_count": 178
        }
      ]
    },
    {
      "cell_type": "code",
      "source": [
        "#El numero maximo de los puntos obtenidos\n",
        "dfDatos[\"PUNTOS\"].max()"
      ],
      "metadata": {
        "colab": {
          "base_uri": "https://localhost:8080/"
        },
        "id": "u-18jXdCGgP3",
        "outputId": "7e30e424-819d-4d85-e626-b946319cf40e"
      },
      "execution_count": null,
      "outputs": [
        {
          "output_type": "execute_result",
          "data": {
            "text/plain": [
              "3796"
            ]
          },
          "metadata": {},
          "execution_count": 179
        }
      ]
    },
    {
      "cell_type": "code",
      "source": [
        "#El promedio de edad de los pilotos \n",
        "dfDatos[\"EDAD\"].mean()"
      ],
      "metadata": {
        "colab": {
          "base_uri": "https://localhost:8080/"
        },
        "id": "HZ1wQUI5HdgP",
        "outputId": "497065e2-87cf-48c6-f1d6-5e6a316b29f3"
      },
      "execution_count": null,
      "outputs": [
        {
          "output_type": "execute_result",
          "data": {
            "text/plain": [
              "27.9"
            ]
          },
          "metadata": {},
          "execution_count": 180
        }
      ]
    },
    {
      "cell_type": "code",
      "source": [
        "#El promedio de los puntos de los pilotos\n",
        "dfDatos[\"PUNTOS\"].mean()\n"
      ],
      "metadata": {
        "colab": {
          "base_uri": "https://localhost:8080/"
        },
        "id": "-x4JpTF8HuQo",
        "outputId": "9a65bfdb-04cf-4eb9-a3e9-f6e7fec09f9c"
      },
      "execution_count": null,
      "outputs": [
        {
          "output_type": "execute_result",
          "data": {
            "text/plain": [
              "1330.2"
            ]
          },
          "metadata": {},
          "execution_count": 181
        }
      ]
    },
    {
      "cell_type": "code",
      "source": [
        "!apt install mongodb"
      ],
      "metadata": {
        "colab": {
          "base_uri": "https://localhost:8080/"
        },
        "id": "2VoFplVwlBoK",
        "outputId": "1a648090-0137-483c-fc71-6631c005cf21"
      },
      "execution_count": null,
      "outputs": [
        {
          "output_type": "stream",
          "name": "stdout",
          "text": [
            "Reading package lists... Done\n",
            "Building dependency tree       \n",
            "Reading state information... Done\n",
            "The following package was automatically installed and is no longer required:\n",
            "  libnvidia-common-460\n",
            "Use 'apt autoremove' to remove it.\n",
            "The following additional packages will be installed:\n",
            "  libpcap0.8 libstemmer0d libyaml-cpp0.5v5 mongo-tools mongodb-clients\n",
            "  mongodb-server mongodb-server-core\n",
            "The following NEW packages will be installed:\n",
            "  libpcap0.8 libstemmer0d libyaml-cpp0.5v5 mongo-tools mongodb mongodb-clients\n",
            "  mongodb-server mongodb-server-core\n",
            "0 upgraded, 8 newly installed, 0 to remove and 5 not upgraded.\n",
            "Need to get 53.1 MB of archives.\n",
            "After this operation, 215 MB of additional disk space will be used.\n",
            "Get:1 http://archive.ubuntu.com/ubuntu bionic-updates/main amd64 libpcap0.8 amd64 1.8.1-6ubuntu1.18.04.2 [118 kB]\n",
            "Get:2 http://archive.ubuntu.com/ubuntu bionic/main amd64 libstemmer0d amd64 0+svn585-1build1 [62.5 kB]\n",
            "Get:3 http://archive.ubuntu.com/ubuntu bionic/universe amd64 libyaml-cpp0.5v5 amd64 0.5.2-4ubuntu1 [150 kB]\n",
            "Get:4 http://archive.ubuntu.com/ubuntu bionic/universe amd64 mongo-tools amd64 3.6.3-0ubuntu1 [12.3 MB]\n",
            "Get:5 http://archive.ubuntu.com/ubuntu bionic-updates/universe amd64 mongodb-clients amd64 1:3.6.3-0ubuntu1.4 [20.2 MB]\n",
            "Get:6 http://archive.ubuntu.com/ubuntu bionic-updates/universe amd64 mongodb-server-core amd64 1:3.6.3-0ubuntu1.4 [20.3 MB]\n",
            "Get:7 http://archive.ubuntu.com/ubuntu bionic-updates/universe amd64 mongodb-server all 1:3.6.3-0ubuntu1.4 [12.6 kB]\n",
            "Get:8 http://archive.ubuntu.com/ubuntu bionic-updates/universe amd64 mongodb amd64 1:3.6.3-0ubuntu1.4 [10.2 kB]\n",
            "Fetched 53.1 MB in 4s (13.4 MB/s)\n",
            "Selecting previously unselected package libpcap0.8:amd64.\n",
            "(Reading database ... 123991 files and directories currently installed.)\n",
            "Preparing to unpack .../0-libpcap0.8_1.8.1-6ubuntu1.18.04.2_amd64.deb ...\n",
            "Unpacking libpcap0.8:amd64 (1.8.1-6ubuntu1.18.04.2) ...\n",
            "Selecting previously unselected package libstemmer0d:amd64.\n",
            "Preparing to unpack .../1-libstemmer0d_0+svn585-1build1_amd64.deb ...\n",
            "Unpacking libstemmer0d:amd64 (0+svn585-1build1) ...\n",
            "Selecting previously unselected package libyaml-cpp0.5v5:amd64.\n",
            "Preparing to unpack .../2-libyaml-cpp0.5v5_0.5.2-4ubuntu1_amd64.deb ...\n",
            "Unpacking libyaml-cpp0.5v5:amd64 (0.5.2-4ubuntu1) ...\n",
            "Selecting previously unselected package mongo-tools.\n",
            "Preparing to unpack .../3-mongo-tools_3.6.3-0ubuntu1_amd64.deb ...\n",
            "Unpacking mongo-tools (3.6.3-0ubuntu1) ...\n",
            "Selecting previously unselected package mongodb-clients.\n",
            "Preparing to unpack .../4-mongodb-clients_1%3a3.6.3-0ubuntu1.4_amd64.deb ...\n",
            "Unpacking mongodb-clients (1:3.6.3-0ubuntu1.4) ...\n",
            "Selecting previously unselected package mongodb-server-core.\n",
            "Preparing to unpack .../5-mongodb-server-core_1%3a3.6.3-0ubuntu1.4_amd64.deb ...\n",
            "Unpacking mongodb-server-core (1:3.6.3-0ubuntu1.4) ...\n",
            "Selecting previously unselected package mongodb-server.\n",
            "Preparing to unpack .../6-mongodb-server_1%3a3.6.3-0ubuntu1.4_all.deb ...\n",
            "Unpacking mongodb-server (1:3.6.3-0ubuntu1.4) ...\n",
            "Selecting previously unselected package mongodb.\n",
            "Preparing to unpack .../7-mongodb_1%3a3.6.3-0ubuntu1.4_amd64.deb ...\n",
            "Unpacking mongodb (1:3.6.3-0ubuntu1.4) ...\n",
            "Setting up libstemmer0d:amd64 (0+svn585-1build1) ...\n",
            "Setting up libyaml-cpp0.5v5:amd64 (0.5.2-4ubuntu1) ...\n",
            "Setting up mongodb-server-core (1:3.6.3-0ubuntu1.4) ...\n",
            "Setting up libpcap0.8:amd64 (1.8.1-6ubuntu1.18.04.2) ...\n",
            "Setting up mongodb-clients (1:3.6.3-0ubuntu1.4) ...\n",
            "Setting up mongodb-server (1:3.6.3-0ubuntu1.4) ...\n",
            "invoke-rc.d: could not determine current runlevel\n",
            "invoke-rc.d: policy-rc.d denied execution of start.\n",
            "Created symlink /etc/systemd/system/multi-user.target.wants/mongodb.service → /lib/systemd/system/mongodb.service.\n",
            "Setting up mongo-tools (3.6.3-0ubuntu1) ...\n",
            "Setting up mongodb (1:3.6.3-0ubuntu1.4) ...\n",
            "Processing triggers for systemd (237-3ubuntu10.56) ...\n",
            "Processing triggers for man-db (2.8.3-2ubuntu0.1) ...\n",
            "Processing triggers for libc-bin (2.27-3ubuntu1.6) ...\n"
          ]
        }
      ]
    },
    {
      "cell_type": "code",
      "source": [
        "!service mongodb start"
      ],
      "metadata": {
        "colab": {
          "base_uri": "https://localhost:8080/"
        },
        "id": "QYzJ6O_ElJ5_",
        "outputId": "6bb9d8c8-c035-40f4-c8d5-bc60d3b011e6"
      },
      "execution_count": null,
      "outputs": [
        {
          "output_type": "stream",
          "name": "stdout",
          "text": [
            " * Starting database mongodb\n",
            "   ...done.\n"
          ]
        }
      ]
    },
    {
      "cell_type": "code",
      "source": [
        "client = MongoClient()\n",
        "client.list_database_names()\n",
        "db = client['MOTOGP']\n",
        "collection = db['competidores']"
      ],
      "metadata": {
        "id": "VGLzeJWzleNq"
      },
      "execution_count": null,
      "outputs": []
    }
  ]
}